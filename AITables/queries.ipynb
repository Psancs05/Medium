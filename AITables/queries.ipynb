{
 "cells": [
  {
   "cell_type": "markdown",
   "metadata": {},
   "source": [
    "### All this code has to be executed in MindsDB editor. All blocks are SQL queries. Each block has a comment explaining when you will have to execute each block of code."
   ]
  },
  {
   "cell_type": "markdown",
   "metadata": {},
   "source": [
    "Run this to see all the uploaded files"
   ]
  },
  {
   "cell_type": "code",
   "execution_count": null,
   "metadata": {},
   "outputs": [],
   "source": [
    "SHOW TABLES FROM files;"
   ]
  },
  {
   "cell_type": "markdown",
   "metadata": {},
   "source": [
    "Run this to see the first 10 records in the train_data file"
   ]
  },
  {
   "cell_type": "code",
   "execution_count": null,
   "metadata": {},
   "outputs": [],
   "source": [
    "SELECT * FROM files.train_data LIMIT 10;"
   ]
  },
  {
   "cell_type": "markdown",
   "metadata": {},
   "source": [
    "Run this to create the predictor in the train data"
   ]
  },
  {
   "cell_type": "code",
   "execution_count": null,
   "metadata": {},
   "outputs": [],
   "source": [
    "CREATE PREDICTOR mindsdb.salary_predictor\n",
    "FROM files\n",
    "  (SELECT * FROM train_data)\n",
    "PREDICT target;"
   ]
  },
  {
   "cell_type": "markdown",
   "metadata": {},
   "source": [
    "Run this to check the status of the predictor"
   ]
  },
  {
   "cell_type": "code",
   "execution_count": null,
   "metadata": {},
   "outputs": [],
   "source": [
    "SELECT *\n",
    "FROM mindsdb.predictors\n",
    "WHERE name='salary_predictor';"
   ]
  },
  {
   "cell_type": "markdown",
   "metadata": {},
   "source": [
    "Run this to create the predictions"
   ]
  },
  {
   "cell_type": "code",
   "execution_count": null,
   "metadata": {},
   "outputs": [],
   "source": [
    "SELECT\n",
    "    collected_data.age,\n",
    "    collected_data.workclass,\n",
    "    collected_data.fnlwgt,\n",
    "    collected_data.education,\n",
    "    collected_data.educatioNnum,\n",
    "    collected_data.maritalStatus,\n",
    "    collected_data.occupation,\n",
    "    collected_data.relationship,\n",
    "    collected_data.race,\n",
    "    collected_data.sex,\n",
    "    collected_data.capitalGain,\n",
    "    collected_data.capitalLoss,\n",
    "    collected_data.hoursPerWeek,\n",
    "    collected_data.nativeCountry,\n",
    "    collected_data.target,\n",
    "    predictions.target AS predicted_salary\n",
    "FROM files.test_data AS collected_data\n",
    "JOIN mindsdb.salary_predictor AS predictions;"
   ]
  }
 ],
 "metadata": {
  "language_info": {
   "name": "python"
  }
 },
 "nbformat": 4,
 "nbformat_minor": 2
}
